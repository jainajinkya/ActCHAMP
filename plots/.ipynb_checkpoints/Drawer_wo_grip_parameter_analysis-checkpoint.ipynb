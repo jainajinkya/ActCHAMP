{
 "cells": [
  {
   "cell_type": "code",
   "execution_count": 1,
   "metadata": {},
   "outputs": [
    {
     "name": "stderr",
     "output_type": "stream",
     "text": [
      "/home/ajinkya/Software/ajinkya/active_champ/plots/transformations.py:1928: UserWarning: No module named '_transformations'\n",
      "  warnings.warn(str(err))\n"
     ]
    }
   ],
   "source": [
    "#!/usr/bin/env python3\n",
    "import numpy as np\n",
    "import transformations as tf"
   ]
  },
  {
   "cell_type": "code",
   "execution_count": 2,
   "metadata": {},
   "outputs": [],
   "source": [
    "def find_axis_in_camera_frame(pt, ref):\n",
    "    quat = ref[3:]\n",
    "    t = tf.quaternion_matrix(quat)\n",
    "    pt = np.append(pt, 1.)\n",
    "    new_pt = t.dot(pt)[:3]\n",
    "    return new_pt"
   ]
  },
  {
   "cell_type": "code",
   "execution_count": 3,
   "metadata": {},
   "outputs": [],
   "source": [
    "def find_axis_in_global_frame(pt):\n",
    "    quat = np.array([ 0., -0.707, 0., 0.707])\n",
    "    t = tf.quaternion_matrix(quat)\n",
    "    pt = np.append(pt, 1.)\n",
    "    new_pt = t.dot(pt)[:3]\n",
    "    return new_pt"
   ]
  },
  {
   "cell_type": "code",
   "execution_count": 4,
   "metadata": {},
   "outputs": [],
   "source": [
    "def calculate_error(vec1, ax_mat):\n",
    "    abs_err = []\n",
    "    for ax in ax_mat:\n",
    "        abs_err.append(1. - abs((np.dot(ax.T, gt))/(np.linalg.norm(ax)* np.linalg.norm(gt))))\n",
    "    return np.array(abs_err)"
   ]
  },
  {
   "cell_type": "code",
   "execution_count": 5,
   "metadata": {},
   "outputs": [],
   "source": [
    "## Axis are wrt to some origin. ZWe need to convert thtm wrt to a common frame for comparison. \n",
    "## We can convert them to a transform wrt Camera frame using the rigid body parms we know\n",
    "\n",
    "### CHANgepoint detection accuracy: use the coordinates of rigid model in the with grip data and use that as the ground\n",
    "## truth. Foir each data file check the changepoint poisition\n",
    "\n",
    "## report error in radius, center and axis\n",
    "\n",
    "champ_axes = np.reshape([-0.181958665376,\n",
    "-0.00519067616289,\n",
    "0.983292479873,\n",
    "-0.120205601708,\n",
    "-0.136270929984,\n",
    "0.983351842912,\n",
    "-0.0677363701801,\n",
    "-0.144552198102,\n",
    "0.987175995544,], (3,3))\n",
    "\n",
    "\n",
    "\n",
    "# champ_axes_camera = []\n",
    "# for axis, ref in zip(local_axes, local_refs):\n",
    "#     axis_in_camera =  find_axis_in_camera_frame(axis, ref)\n",
    "#     champ_axes_camera.append(axis_in_camera)\n",
    "\n",
    "champ_axes_global = []\n",
    "for axis in champ_axes:\n",
    "    axis_in_global =  find_axis_in_global_frame(axis)\n",
    "    champ_axes_global.append(axis_in_global)"
   ]
  },
  {
   "cell_type": "code",
   "execution_count": 6,
   "metadata": {},
   "outputs": [
    {
     "name": "stdout",
     "output_type": "stream",
     "text": [
      "\n",
      "CHAMP Absolute Error:\n",
      "Mean:  0.015393227223327663\n",
      "std:  0.0018168764798432051\n"
     ]
    }
   ],
   "source": [
    "gt = np.array([1., 0. , 0.])\n",
    "abs_err = calculate_error(gt, champ_axes_global)\n",
    "\n",
    "print(\"\\nCHAMP Absolute Error:\")\n",
    "mean_abs_err = np.mean(abs_err, axis=0)\n",
    "print(\"Mean: \", mean_abs_err)\n",
    "std_abs_err = np.std(abs_err, axis=0)\n",
    "print(\"std: \", std_abs_err)\n",
    "\n",
    "# mean_champ_camera = np.mean(champ_axes_camera, axis=0)\n",
    "# print(\"Mean: \", mean_champ_camera)\n",
    "# std_champ_camera = np.std(champ_axes_camera, axis=0)\n",
    "# print(\"std: \", std_champ_camera)\n",
    "\n",
    "# print(\"\\n Gloabal frame:\")\n",
    "# mean_champ_global = np.mean(champ_axes_global, axis=0)\n",
    "# print(\"Mean: \", mean_champ_global)\n",
    "# std_champ_global = np.std(champ_axes_global, axis=0)\n",
    "# print(\"std: \", std_champ_global)"
   ]
  },
  {
   "cell_type": "code",
   "execution_count": 7,
   "metadata": {},
   "outputs": [
    {
     "name": "stdout",
     "output_type": "stream",
     "text": [
      "\n",
      "CHAMP Absolute Error:\n",
      "Mean:  0.01060601802535082\n",
      "std:  0.005180578211000018\n"
     ]
    }
   ],
   "source": [
    "## Act-CHAMP\n",
    "actChamp_axes = np.reshape([-0.098828752864,\n",
    "-0.00121133041667,\n",
    "0.995103718356,\n",
    "-0.129416315763,\n",
    "-0.107080949948,\n",
    "0.985791604434,\n",
    "-0.0616009020096,\n",
    "-0.122513545886,\n",
    "0.99055325952,\n",
    "-0.0112563792868,\n",
    "-0.164707656544,\n",
    "0.986278196961,\n",
    "-0.0744871212721,\n",
    "-0.101704320354,\n",
    "0.992022126762,\n",
    "-0.117170653567,\n",
    "-0.161628189528,\n",
    "0.979871096774,\n",
    "-0.0670223722591,\n",
    "-0.160813887937,\n",
    "0.984706501991,\n",
    "-0.0315718597827,\n",
    "-0.0944216273168,\n",
    "0.995031544206,\n",
    "-0.0249442778951,\n",
    "-0.0947578391918,\n",
    "0.995187788768,], (9,3))\n",
    "\n",
    "actChamp_axes_global = []\n",
    "for axis in actChamp_axes:\n",
    "    actChamp_axis =  find_axis_in_global_frame(axis)\n",
    "    actChamp_axes_global.append(actChamp_axis)\n",
    "\n",
    "\n",
    "gt = np.array([1., 0. , 0.])\n",
    "actCHAMP_abs_err = calculate_error(gt, actChamp_axes_global)\n",
    "print(\"\\nActCHAMP Absolute Error:\")\n",
    "actCHAMP_mean_abs_err = np.mean(actCHAMP_abs_err, axis=0)\n",
    "print(\"Mean: \", actCHAMP_mean_abs_err)\n",
    "actCHAMP_std_abs_err = np.std(actCHAMP_abs_err, axis=0)\n",
    "print(\"std: \", actCHAMP_std_abs_err)\n"
   ]
  },
  {
   "cell_type": "code",
   "execution_count": null,
   "metadata": {},
   "outputs": [],
   "source": []
  }
 ],
 "metadata": {
  "kernelspec": {
   "display_name": "Python 3",
   "language": "python",
   "name": "python3"
  },
  "language_info": {
   "codemirror_mode": {
    "name": "ipython",
    "version": 3
   },
   "file_extension": ".py",
   "mimetype": "text/x-python",
   "name": "python",
   "nbconvert_exporter": "python",
   "pygments_lexer": "ipython3",
   "version": "3.5.2"
  }
 },
 "nbformat": 4,
 "nbformat_minor": 2
}
