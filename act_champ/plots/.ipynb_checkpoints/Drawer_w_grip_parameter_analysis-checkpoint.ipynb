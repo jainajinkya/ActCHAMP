{
 "cells": [
  {
   "cell_type": "code",
   "execution_count": 6,
   "metadata": {},
   "outputs": [
    {
     "name": "stderr",
     "output_type": "stream",
     "text": [
      "/home/ajinkya/Software/ajinkya/active_champ/plots/transformations.py:1928: UserWarning: No module named '_transformations'\n",
      "  warnings.warn(str(err))\n"
     ]
    }
   ],
   "source": [
    "#!/usr/bin/env python3\n",
    "import numpy as np\n",
    "import transformations as tf"
   ]
  },
  {
   "cell_type": "code",
   "execution_count": 33,
   "metadata": {},
   "outputs": [],
   "source": [
    "def find_axis_in_camera_frame(pt, ref):\n",
    "    quat = ref[3:]\n",
    "    t = tf.quaternion_matrix(quat)\n",
    "    pt = np.append(axis[:3], 1.)\n",
    "    new_pt = t.dot(pt)[:3]\n",
    "    return new_pt"
   ]
  },
  {
   "cell_type": "code",
   "execution_count": 34,
   "metadata": {},
   "outputs": [],
   "source": [
    "def find_axis_in_global_frame(pt):\n",
    "    quat = np.array([ 0., -0.707, 0., 0.707])\n",
    "    t = tf.quaternion_matrix(quat)\n",
    "    pt = np.append(axis[:3], 1.)\n",
    "    new_pt = t.dot(pt)[:3]\n",
    "    return new_pt"
   ]
  },
  {
   "cell_type": "code",
   "execution_count": null,
   "metadata": {},
   "outputs": [],
   "source": [
    "def calculate_error(vec1, ax_mat):\n",
    "    abs_err = []\n",
    "    for ax in ax_mat:\n",
    "        abs_err.append((np.dot(ax.T, gt))/(np.linalg.norm(ax)* np.linalg.norm(gt)))\n",
    "    return np.array(abs_err)"
   ]
  },
  {
   "cell_type": "code",
   "execution_count": 37,
   "metadata": {},
   "outputs": [],
   "source": [
    "## Axis are wrt to some origin. ZWe need to convert thtm wrt to a common frame for comparison. \n",
    "## We can convert them to a transform wrt Camera frame using the rigid body parms we know\n",
    "\n",
    "local_axes = np.array([[-0.007333, 0.025356, -0.999652],\n",
    "                       [0.028063, 0.030835, -0.999130],\n",
    "                       [0.049321,\n",
    "                        0.000428,\n",
    "                        -0.998783,],\n",
    "                       [ 0.017981,\n",
    "                        -0.003999,\n",
    "                        -0.999830,],\n",
    "                      [ 0.021809,\n",
    "                         0.016547,\n",
    "                        -0.999625,],\n",
    "                      [ 0.034940,\n",
    "                         0.002298,\n",
    "                        -0.999387],\n",
    "                       [ 0.031865,\n",
    "                         0.030766,\n",
    "                        -0.999019,],\n",
    "                       [0.011100,\n",
    "                        0.018817,\n",
    "                        -0.999761,],\n",
    "                        [0.016054,\n",
    "                        0.039930,\n",
    "                        -0.999073],\n",
    "                      [0.065001,\n",
    "                        0.000251,\n",
    "                        -0.997885,]])\n",
    "\n",
    "# [[translation], [quat]]\n",
    "local_refs = np.reshape([    -0.042205,\n",
    "    0.367889,\n",
    "    0.003316,\n",
    "    0.002258,\n",
    "    0.070516,\n",
    "    -0.028664,\n",
    "    0.997096,\n",
    "    -0.048135,\n",
    "    0.366734,\n",
    "    0.003550,\n",
    "    0.031153,\n",
    "    0.103390,\n",
    "    0.000182,\n",
    "    0.994153,\n",
    "    -0.048034,\n",
    "    0.368630,\n",
    "    0.003677,\n",
    "    0.046221,\n",
    "    0.109078,\n",
    "    -0.000654,\n",
    "    0.992958,\n",
    "    -0.042360,\n",
    "    0.368023,\n",
    "    0.003575,\n",
    "    -0.009743,\n",
    "    0.061323,\n",
    "    -0.031097,\n",
    "    0.997586,\n",
    "    -0.048162,\n",
    "    0.369684,\n",
    "    0.003555,\n",
    "    0.002258,\n",
    "    0.070516,\n",
    "    -0.028664,\n",
    "    0.997096,\n",
    "    -0.047466,\n",
    "    0.371341,\n",
    "    0.003617,\n",
    "    -0.026428,\n",
    "    0.057279,\n",
    "    -0.009739,\n",
    "    0.997961,\n",
    "    -0.047969,\n",
    "    0.366734,\n",
    "    0.003579,\n",
    "    0.004459,\n",
    "    0.063757,\n",
    "    -0.028497,\n",
    "    0.997549,\n",
    "    -0.042288,\n",
    "    0.367915,\n",
    "    0.003529,\n",
    "    0.003429,\n",
    "    0.049716,\n",
    "    -0.023202,\n",
    "    0.998488,\n",
    "    -0.046426,\n",
    "    0.364886,\n",
    "    0.003433,\n",
    "    0.020753,\n",
    "    0.032024,\n",
    "    -0.007281,\n",
    "    0.999245,\n",
    "    -0.046573,\n",
    "    0.365021,\n",
    "    0.003672,\n",
    "    0.020753,\n",
    "    0.032024,\n",
    "    -0.007281,\n",
    "    0.999245,\n",
    "], (10, 7))\n",
    "\n",
    "champ_axes_camera = []\n",
    "for axis, ref in zip(local_axes, local_refs):\n",
    "    axis_in_camera =  find_axis_in_camera_frame(axis, ref)\n",
    "    champ_axes_camera.append(axis_in_camera)\n",
    "\n",
    "champ_axes_global = []\n",
    "for axis in local_axes:\n",
    "    axis_in_global =  find_axis_in_global_frame(axis)\n",
    "    champ_axes_global.append(axis_in_global)"
   ]
  },
  {
   "cell_type": "code",
   "execution_count": 42,
   "metadata": {},
   "outputs": [
    {
     "name": "stdout",
     "output_type": "stream",
     "text": [
      "\n",
      "CHAMP Absolute Error:\n",
      "Mean:  [-0.0007855 -0.0161229 -0.0268801]\n",
      "std:  [0.00055555 0.01478039 0.01920851]\n",
      "\n",
      " Gloabal frame:\n",
      "Mean:  [ 0.9992145 -0.0161229 -0.0268801]\n",
      "std:  [0.00055555 0.01478039 0.01920851]\n"
     ]
    }
   ],
   "source": [
    "gt = np.array([1., 0. , 0.])\n",
    "\n",
    "print(\"\\nCHAMP Absolute Error:\")\n",
    "mean_abs_err = np.mean(abs_err, axis=0)\n",
    "print(\"Mean: \", mean_abs_err)\n",
    "std_abs_err = np.std(abs_err, axis=0)\n",
    "print(\"std: \", std_abs_err)\n",
    "\n",
    "# mean_champ_camera = np.mean(champ_axes_camera, axis=0)\n",
    "# print(\"Mean: \", mean_champ_camera)\n",
    "# std_champ_camera = np.std(champ_axes_camera, axis=0)\n",
    "# print(\"std: \", std_champ_camera)\n",
    "\n",
    "# print(\"\\n Gloabal frame:\")\n",
    "# mean_champ_global = np.mean(champ_axes_global, axis=0)\n",
    "# print(\"Mean: \", mean_champ_global)\n",
    "# std_champ_global = np.std(champ_axes_global, axis=0)\n",
    "# print(\"std: \", std_champ_global)"
   ]
  },
  {
   "cell_type": "code",
   "execution_count": 47,
   "metadata": {},
   "outputs": [
    {
     "name": "stdout",
     "output_type": "stream",
     "text": [
      "\n",
      "CHAMP Absolute Error:\n",
      "Mean:  [-0.0010987  0.0175642  0.039904 ]\n",
      "std:  [0.00054096 0.00985859 0.01406809]\n"
     ]
    }
   ],
   "source": [
    "## Act-CHAMP\n",
    "actChamp_axes = np.reshape([0.053188,\n",
    "                            0.030560,\n",
    "                            0.998117,\n",
    "                            0.037077,\n",
    "                            0.016305,\n",
    "                            0.999179,\n",
    "                            0.024661,\n",
    "                            0.022393,\n",
    "                            0.999445,\n",
    "                            0.038652,\n",
    "                            0.011721,\n",
    "                            0.999184,\n",
    "                            0.042322,\n",
    "                            0.027805,\n",
    "                            0.998717,\n",
    "                            0.022893,\n",
    "                            0.024936,\n",
    "                            0.999427,\n",
    "                            0.054105,\n",
    "                            0.002875,\n",
    "                            0.998531,\n",
    "                            0.019174,\n",
    "                            0.024989,\n",
    "                            0.999504,\n",
    "                            0.065001,\n",
    "                            0.000251,\n",
    "                            0.997885,\n",
    "                            0.041967,\n",
    "                            0.013807,\n",
    "                            0.999024,], (10,3))\n",
    "\n",
    "actChamp_axes_global = []\n",
    "for axis in actChamp_axes:\n",
    "    actChamp_axis =  find_axis_in_global_frame(axis)\n",
    "    actChamp_axes_global.append(actChamp_axis)\n",
    "\n",
    "\n",
    "gt = np.array([1., 0. , 0.])\n",
    "actCHAMP_abs_err = abs(np.array(actChamp_axes_global)) - gt\n",
    "print(\"\\nCHAMP Absolute Error:\")\n",
    "actCHAMP_mean_abs_err = np.mean(actCHAMP_abs_err, axis=0)\n",
    "print(\"Mean: \", actCHAMP_mean_abs_err)\n",
    "actCHAMP_std_abs_err = np.std(actCHAMP_abs_err, axis=0)\n",
    "print(\"std: \", actCHAMP_std_abs_err)\n"
   ]
  },
  {
   "cell_type": "code",
   "execution_count": 46,
   "metadata": {},
   "outputs": [
    {
     "data": {
      "text/plain": [
       "array([[5.31880e-02, 3.05600e-02, 9.98117e-01],\n",
       "       [3.70770e-02, 1.63050e-02, 9.99179e-01],\n",
       "       [2.46610e-02, 2.23930e-02, 9.99445e-01],\n",
       "       [3.86520e-02, 1.17210e-02, 9.99184e-01],\n",
       "       [4.23220e-02, 2.78050e-02, 9.98717e-01],\n",
       "       [2.28930e-02, 2.49360e-02, 9.99427e-01],\n",
       "       [5.41050e-02, 2.87500e-03, 9.98531e-01],\n",
       "       [1.91740e-02, 2.49890e-02, 9.99504e-01],\n",
       "       [6.50010e-02, 2.51000e-04, 9.97885e-01],\n",
       "       [4.19670e-02, 1.38070e-02, 9.99024e-01]])"
      ]
     },
     "execution_count": 46,
     "metadata": {},
     "output_type": "execute_result"
    }
   ],
   "source": [
    "actChamp_axes"
   ]
  },
  {
   "cell_type": "code",
   "execution_count": 49,
   "metadata": {},
   "outputs": [
    {
     "data": {
      "text/plain": [
       "array([0.053188, 0.037077, 0.024661, 0.038652, 0.042322, 0.022893,\n",
       "       0.054105, 0.019174, 0.065001, 0.041967])"
      ]
     },
     "execution_count": 49,
     "metadata": {},
     "output_type": "execute_result"
    }
   ],
   "source": [
    "f\n"
   ]
  },
  {
   "cell_type": "code",
   "execution_count": null,
   "metadata": {},
   "outputs": [],
   "source": []
  }
 ],
 "metadata": {
  "kernelspec": {
   "display_name": "Python 3",
   "language": "python",
   "name": "python3"
  },
  "language_info": {
   "codemirror_mode": {
    "name": "ipython",
    "version": 3
   },
   "file_extension": ".py",
   "mimetype": "text/x-python",
   "name": "python",
   "nbconvert_exporter": "python",
   "pygments_lexer": "ipython3",
   "version": "3.6.8"
  }
 },
 "nbformat": 4,
 "nbformat_minor": 2
}
