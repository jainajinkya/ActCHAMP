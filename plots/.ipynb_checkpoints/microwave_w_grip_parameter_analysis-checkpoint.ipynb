{
 "cells": [
  {
   "cell_type": "code",
   "execution_count": 3,
   "metadata": {},
   "outputs": [
    {
     "name": "stderr",
     "output_type": "stream",
     "text": [
      "/home/ajinkya/Software/ajinkya/active_champ/plots/transformations.py:1928: UserWarning: No module named '_transformations'\n",
      "  warnings.warn(str(err))\n"
     ]
    }
   ],
   "source": [
    "#!/usr/bin/env python3\n",
    "import numpy as np\n",
    "import transformations as tf"
   ]
  },
  {
   "cell_type": "code",
   "execution_count": 4,
   "metadata": {},
   "outputs": [],
   "source": [
    "def find_axis_in_camera_frame(pt, ref):\n",
    "    quat = ref[3:]\n",
    "    t = tf.quaternion_matrix(quat)\n",
    "    pt = np.append(pt, 1.)\n",
    "    new_pt = t.dot(pt)[:3]\n",
    "    return new_pt"
   ]
  },
  {
   "cell_type": "code",
   "execution_count": 5,
   "metadata": {},
   "outputs": [],
   "source": [
    "def find_axis_in_global_frame(pt):\n",
    "    quat = np.array([ 0., -0.707, 0., 0.707])\n",
    "    t = tf.quaternion_matrix(quat)\n",
    "    pt = np.append(pt, 1.)\n",
    "    new_pt = t.dot(pt)[:3]\n",
    "    return new_pt"
   ]
  },
  {
   "cell_type": "code",
   "execution_count": 11,
   "metadata": {},
   "outputs": [],
   "source": [
    "def find_axis_in_global_frame_from_quat(quat_in):\n",
    "    t1 = tf.quaternion_matrix(quat_in)\n",
    "    x = np.array([0., 0., 1. ,1.])\n",
    "    pt = t1.dot(x)[:3]\n",
    "    new_pt = find_axis_in_global_frame(pt)\n",
    "    return new_pt"
   ]
  },
  {
   "cell_type": "code",
   "execution_count": 12,
   "metadata": {},
   "outputs": [],
   "source": [
    "def calculate_error(vec, ax_mat):\n",
    "    abs_err = []\n",
    "    for ax in ax_mat:\n",
    "        abs_err.append(1. - abs((np.dot(ax.T, vec))/(np.linalg.norm(ax)* np.linalg.norm(vec))))\n",
    "    return np.array(abs_err)"
   ]
  },
  {
   "cell_type": "code",
   "execution_count": 13,
   "metadata": {},
   "outputs": [],
   "source": [
    "## Axis are wrt to some origin. ZWe need to convert thtm wrt to a common frame for comparison. \n",
    "## We can convert them to a transform wrt Camera frame using the rigid body parms we know\n",
    "\n",
    "champ_center = np.reshape([-0.0579273883048,\n",
    "                            -0.311441705219,\n",
    "                            -0.0208280461233,\n",
    "                            -0.0499914065927,\n",
    "                            -0.298867207351,\n",
    "                            -0.0238727412394,\n",
    "                            -0.0984513610544,\n",
    "                            -0.225156339526,\n",
    "                            -0.0491073035833,\n",
    "                            -0.101186334794,\n",
    "                            -0.256404057374,\n",
    "                            -0.0406491611428,\n",
    "                            -0.119080652013,\n",
    "                            -0.304403051426,\n",
    "                            -0.0232807446221,\n",
    "                            -0.0754330371917,\n",
    "                            -0.374393782435,\n",
    "                            -0.00848623662944,\n",
    "                            -0.0871876785983,\n",
    "                            -0.274225518406,\n",
    "                            -0.034927378059,\n",
    "                            -0.006562,\n",
    "                            -0.301980,\n",
    "                            -0.023111,\n",
    "                            -0.0286787201994,\n",
    "                            -0.290330267038,\n",
    "                            -0.0314991565349,\n",
    "                            -0.0760493750511,\n",
    "                            -0.306312812404,\n",
    "                            -0.0251133626187,], (10,3))\n",
    "\n",
    "\n",
    "champ_axes = np.reshape([0.722673934532,\n",
    "                        0.119318495351,\n",
    "                        0.680442337438,\n",
    "                        0.0224434052029,\n",
    "                        0.0235159079144,\n",
    "                        0.694010247522,\n",
    "                        0.113583548939,\n",
    "                        0.710560029709,\n",
    "                        0.192761595646,\n",
    "                        0.718363130633,\n",
    "                        0.00669569593423,\n",
    "                        0.668395502264,\n",
    "                        0.663661905128,\n",
    "                        0.0676870933332,\n",
    "                        0.736266248102,\n",
    "                        0.113504823615,\n",
    "                        0.214279293235,\n",
    "                        0.711759909403,\n",
    "                        0.0208679089192,\n",
    "                        0.668615544416,\n",
    "                        0.719987743792,\n",
    "                        0.132129474142,\n",
    "                        0.680902202812,\n",
    "                        0.0230573428179,\n",
    "                        0.704438577349,\n",
    "                        0.21875104304,\n",
    "                        0.672519041632,\n",
    "                        0.0602694827783,\n",
    "                        0.704569,\n",
    "                        0.041503,\n",
    "                        0.705545,\n",
    "                        0.063760,\n",
    "                        0.0160993054181,\n",
    "                        0.694245272608,\n",
    "                        0.0731925861839,\n",
    "                        0.715826207368,\n",
    "                        0.673281201678,\n",
    "                        0.0744726656792,\n",
    "                        0.706995684197,\n",
    "                        0.203232251525,], (10,4))\n",
    "\n",
    "dummy = np.zeros((champ_axes.shape[0], champ_axes.shape[1]))\n",
    "dummy[:,1:] = champ_axes[:, :-1]\n",
    "dummy[:,0] = champ_axes[:, -1]\n",
    "champ_axes = dummy \n",
    "\n",
    "champ_radius = np.array([0.458099021896,\n",
    "                        0.442272342186,\n",
    "                        0.380014085967,\n",
    "                        0.410851315051,\n",
    "                        0.463415352235,\n",
    "                        0.521087147813,\n",
    "                        0.424585162326,\n",
    "                        0.441978,\n",
    "                        0.431572381497,\n",
    "                        0.454284369763,])\n",
    "\n",
    "champ_center_global = []\n",
    "for pt in champ_center:\n",
    "    pt_in_global =  find_axis_in_global_frame(pt)\n",
    "    champ_center_global.append(pt_in_global)\n",
    "\n",
    "champ_axes_global = []\n",
    "for axis in champ_axes:\n",
    "    axis_in_global =  find_axis_in_global_frame_from_quat((axis))\n",
    "    champ_axes_global.append(axis_in_global)"
   ]
  },
  {
   "cell_type": "code",
   "execution_count": 14,
   "metadata": {},
   "outputs": [
    {
     "name": "stdout",
     "output_type": "stream",
     "text": [
      "\n",
      "CHAMP Absolute Error in Axis:\n",
      "Mean:  0.016480877876773613\n",
      "std:  0.012822659729494035\n",
      "\n",
      "CHAMP Absolute Error in Radius:\n",
      "Mean:  0.026561260468000013\n",
      "std:  0.02408839271614798\n"
     ]
    }
   ],
   "source": [
    "gt_axis = np.array([0., 0., 1.])\n",
    "gt_rad = 0.45\n",
    "abs_err = calculate_error(gt_axis, champ_axes_global)\n",
    "\n",
    "print(\"\\nCHAMP Absolute Error in Axis:\")\n",
    "mean_abs_err = np.mean(abs_err, axis=0)\n",
    "print(\"Mean: \", mean_abs_err)\n",
    "std_abs_err = np.std(abs_err, axis=0)\n",
    "print(\"std: \", std_abs_err)\n",
    "\n",
    "abs_err_rad = abs(abs(champ_radius) - gt_rad)\n",
    "print(\"\\nCHAMP Absolute Error in Radius:\")\n",
    "mean_abs_err_rad = np.mean(abs_err_rad, axis=0)\n",
    "print(\"Mean: \", mean_abs_err_rad)\n",
    "std_abs_err_rad = np.std(abs_err_rad, axis=0)\n",
    "print(\"std: \", std_abs_err_rad)"
   ]
  },
  {
   "cell_type": "code",
   "execution_count": 10,
   "metadata": {},
   "outputs": [
    {
     "data": {
      "text/plain": [
       "array([-0.92174331, -0.38765074,  0.01077815])"
      ]
     },
     "execution_count": 10,
     "metadata": {},
     "output_type": "execute_result"
    }
   ],
   "source": [
    "axis_in_global"
   ]
  },
  {
   "cell_type": "code",
   "execution_count": 57,
   "metadata": {},
   "outputs": [
    {
     "name": "stdout",
     "output_type": "stream",
     "text": [
      "\n",
      "CHAMP Absolute Error:\n",
      "Mean:  0.0010987164787209735\n",
      "std:  0.0005409356616785034\n"
     ]
    }
   ],
   "source": [
    "## Act-CHAMP\n",
    "actCHAMP_center = np.reshape([-0.043987104936,\n",
    "-0.384950073276,\n",
    "0.00637353341802,\n",
    "-0.0837461418502,\n",
    "-0.297670329997,\n",
    "-0.0253595877004,\n",
    "-0.0723670079919,\n",
    "-0.273478530768,\n",
    "-0.0354516102802,\n",
    "-0.0979015384476,\n",
    "-0.406774924811,\n",
    "0.00180562693553,\n",
    "-0.013317255625,\n",
    "-0.352990112405,\n",
    "-0.0126896848087,\n",
    "-0.0936337220879,\n",
    "-0.277541346346,\n",
    "-0.0426369480588,\n",
    "-0.102467230575,\n",
    "-0.26236496224,\n",
    "-0.0412949997243,\n",
    "-0.126543795813,\n",
    "-0.236732886214,\n",
    "-0.0476438265906,\n",
    "-0.059589343518,\n",
    "-0.250017941012,\n",
    "-0.0420165737243,\n",
    "-0.172757135358,\n",
    "-0.359270128497,\n",
    "-0.0143419314244,], (10,3))\n",
    "\n",
    "\n",
    "actCHAMP_axes = np.reshape([-0.15857694725,\n",
    "-0.703320792394,\n",
    "0.0915568134185,\n",
    "0.68688468079,\n",
    "0.673058808127,\n",
    "0.0665408670808,\n",
    "0.705832973444,\n",
    "0.21062755615,\n",
    "0.707651016436,\n",
    "-0.191009473411,\n",
    "-0.67789777211,\n",
    "0.0565688127115,\n",
    "-0.183501896761,\n",
    "-0.706509833286,\n",
    "0.0508829733671,\n",
    "0.681602400507,\n",
    "-0.107909582158,\n",
    "-0.709184326103,\n",
    "0.080392768413,\n",
    "0.692062220089,\n",
    "0.674881361873,\n",
    "-0.0620850967931,\n",
    "0.728399810505,\n",
    "0.100569897134,\n",
    "0.67078246909,\n",
    "0.0436806412628,\n",
    "0.702732437901,\n",
    "0.233045063157,\n",
    "0.0267141125633,\n",
    "0.664175692653,\n",
    "-0.215142709663,\n",
    "0.715451340035,\n",
    "0.677918631704,\n",
    "-0.0372074484826,\n",
    "0.730093452213,\n",
    "0.077495068244,\n",
    "0.663555797151,\n",
    "-0.0474787384675,\n",
    "0.721666966439,\n",
    "0.191406016133,], (10,4))\n",
    "\n",
    "dummy = np.zeros((actCHAMP_axes.shape[0], actCHAMP_axes.shape[1]))\n",
    "dummy[:,1:] = actCHAMP_axes[:, :-1]\n",
    "dummy[:,0] = actCHAMP_axes[:, -1]\n",
    "actCHAMP_axes = dummy \n",
    "\n",
    "actCHAMP_radius = np.array([0.532896139343,\n",
    "0.448360117058,\n",
    "0.420608354834,\n",
    "0.561373593083,\n",
    "0.493565529174,\n",
    "0.429025079363,\n",
    "0.41584310955,\n",
    "0.399219057777,\n",
    "0.395476201613,\n",
    "0.533190324624,])\n",
    "\n",
    "actCCHAMPaxes_global = []\n",
    "for axis in actCCHAMPaxes:\n",
    "    actCHAMP_axis =  find_axis_in_global_frame(tf.euler_from_quaternion(axis))\n",
    "    actCHAMP_axes_global.append(actCHAMP_axis)\n",
    "\n",
    "actCHAMP_abs_err = calculate_error(gt_axis, actCHAMP_axes_global)\n",
    "print(\"\\nCHAMP Absolute Error:\")\n",
    "actCHAMP_mean_abs_err = np.mean(actCHAMP_abs_err, axis=0)\n",
    "print(\"Mean: \", actCHAMP_mean_abs_err)\n",
    "actCHAMP_std_abs_err = np.std(actCHAMP_abs_err, axis=0)\n",
    "print(\"std: \", actCHAMP_std_abs_err)\n",
    "\n",
    "actCHAMP_abs_err_rad = actCHAMP_radius - gt_rad\n",
    "print(\"\\nCHAMP Absolute Error in Axis:\")\n",
    "actCHAMP_mean_abs_err_rad = np.mean(actCHAMP_abs_err_rad, axis=0)\n",
    "print(\"Mean: \", actCHAMP_mean_abs_err_rad)\n",
    "actCHAMP_std_abs_err_rad = np.std(actCHAMP_abs_err_rad, axis=0)\n",
    "print(\"std: \", actCHAMP_std_abs_err_rad)\n"
   ]
  },
  {
   "cell_type": "code",
   "execution_count": 41,
   "metadata": {},
   "outputs": [
    {
     "ename": "ValueError",
     "evalue": "all the input arrays must have same number of dimensions",
     "output_type": "error",
     "traceback": [
      "\u001b[0;31m-------------------------------------------------------------------------\u001b[0m",
      "\u001b[0;31mValueError\u001b[0m                              Traceback (most recent call last)",
      "\u001b[0;32m<ipython-input-41-823ec0c3dcc7>\u001b[0m in \u001b[0;36m<module>\u001b[0;34m()\u001b[0m\n\u001b[0;32m----> 1\u001b[0;31m \u001b[0mchamp_axes\u001b[0m \u001b[0;34m=\u001b[0m \u001b[0mnp\u001b[0m\u001b[0;34m.\u001b[0m\u001b[0mconcatenate\u001b[0m\u001b[0;34m(\u001b[0m\u001b[0;34m(\u001b[0m\u001b[0mchamp_axes\u001b[0m\u001b[0;34m[\u001b[0m\u001b[0;34m:\u001b[0m\u001b[0;34m,\u001b[0m\u001b[0;36m3\u001b[0m\u001b[0;34m]\u001b[0m\u001b[0;34m.\u001b[0m\u001b[0mT\u001b[0m\u001b[0;34m,\u001b[0m \u001b[0mchamp_axes\u001b[0m\u001b[0;34m[\u001b[0m\u001b[0;34m:\u001b[0m\u001b[0;34m,\u001b[0m\u001b[0;34m:\u001b[0m\u001b[0;36m3\u001b[0m\u001b[0;34m]\u001b[0m\u001b[0;34m.\u001b[0m\u001b[0mT\u001b[0m\u001b[0;34m)\u001b[0m\u001b[0;34m,\u001b[0m \u001b[0maxis\u001b[0m\u001b[0;34m=\u001b[0m\u001b[0;36m0\u001b[0m\u001b[0;34m)\u001b[0m\u001b[0;34m.\u001b[0m\u001b[0mT\u001b[0m\u001b[0;34m\u001b[0m\u001b[0;34m\u001b[0m\u001b[0m\n\u001b[0m",
      "\u001b[0;31mValueError\u001b[0m: all the input arrays must have same number of dimensions"
     ]
    }
   ],
   "source": []
  },
  {
   "cell_type": "code",
   "execution_count": 35,
   "metadata": {},
   "outputs": [
    {
     "data": {
      "text/plain": [
       "(10, 3)"
      ]
     },
     "execution_count": 35,
     "metadata": {},
     "output_type": "execute_result"
    }
   ],
   "source": [
    "np.shape(champ_axes[:,:3])"
   ]
  },
  {
   "cell_type": "code",
   "execution_count": null,
   "metadata": {},
   "outputs": [],
   "source": []
  }
 ],
 "metadata": {
  "kernelspec": {
   "display_name": "Python 3",
   "language": "python",
   "name": "python3"
  },
  "language_info": {
   "codemirror_mode": {
    "name": "ipython",
    "version": 3
   },
   "file_extension": ".py",
   "mimetype": "text/x-python",
   "name": "python",
   "nbconvert_exporter": "python",
   "pygments_lexer": "ipython3",
   "version": "3.6.8"
  }
 },
 "nbformat": 4,
 "nbformat_minor": 2
}
