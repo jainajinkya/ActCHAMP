{
 "cells": [
  {
   "cell_type": "code",
   "execution_count": 1,
   "metadata": {},
   "outputs": [
    {
     "name": "stderr",
     "output_type": "stream",
     "text": [
      "/home/ajinkya/Software/ajinkya/active_champ/plots/transformations.py:1928: UserWarning: No module named '_transformations'\n",
      "  warnings.warn(str(err))\n"
     ]
    }
   ],
   "source": [
    "#!/usr/bin/env python3\n",
    "import numpy as np\n",
    "import transformations as tf"
   ]
  },
  {
   "cell_type": "code",
   "execution_count": 2,
   "metadata": {},
   "outputs": [],
   "source": [
    "def find_axis_in_camera_frame(pt, ref):\n",
    "    quat = ref[3:]\n",
    "    t = tf.quaternion_matrix(quat)\n",
    "    pt = np.append(pt, 1.)\n",
    "    new_pt = t.dot(pt)[:3]\n",
    "    return new_pt"
   ]
  },
  {
   "cell_type": "code",
   "execution_count": 3,
   "metadata": {},
   "outputs": [],
   "source": [
    "def find_axis_in_global_frame(pt):\n",
    "    quat = np.array([ 0., -0.707, 0., 0.707])\n",
    "    t = tf.quaternion_matrix(quat)\n",
    "    pt = np.append(pt, 1.)\n",
    "    new_pt = t.dot(pt)[:3]\n",
    "    return new_pt"
   ]
  },
  {
   "cell_type": "code",
   "execution_count": 4,
   "metadata": {},
   "outputs": [],
   "source": [
    "def find_axis_in_global_frame_from_quat(quat_in):\n",
    "    t1 = tf.quaternion_matrix(quat_in)\n",
    "    x = np.array([0., 0., 1. ,1.])\n",
    "    pt = t1.dot(x)[:3]\n",
    "    new_pt = find_axis_in_global_frame(pt)\n",
    "    return new_pt"
   ]
  },
  {
   "cell_type": "code",
   "execution_count": 5,
   "metadata": {},
   "outputs": [],
   "source": [
    "def calculate_error(vec, ax_mat):\n",
    "    abs_err = []\n",
    "    for ax in ax_mat:\n",
    "        abs_err.append(1. - abs((np.dot(ax.T, vec))/(np.linalg.norm(ax)* np.linalg.norm(vec))))\n",
    "    return np.array(abs_err)"
   ]
  },
  {
   "cell_type": "code",
   "execution_count": 6,
   "metadata": {},
   "outputs": [],
   "source": [
    "## Axis are wrt to some origin. ZWe need to convert thtm wrt to a common frame for comparison. \n",
    "## We can convert them to a transform wrt Camera frame using the rigid body parms we know\n",
    "\n",
    "champ_center = np.reshape([0.408347462728,\n",
    "-0.43070113035,\n",
    "-0.110778859282], (1,3))\n",
    "\n",
    "\n",
    "champ_axes = np.reshape([-0.582976265224,\n",
    "-0.472297565236,\n",
    "0.638679360885,\n",
    "-0.170769897922], (1,4))\n",
    "\n",
    "dummy = np.zeros((champ_axes.shape[0], champ_axes.shape[1]))\n",
    "dummy[:,1:] = champ_axes[:, :-1]\n",
    "dummy[:,0] = champ_axes[:, -1]\n",
    "champ_axes = dummy \n",
    "\n",
    "champ_radius = np.array([0.505937440872])\n",
    "\n",
    "champ_center_global = []\n",
    "for pt in champ_center:\n",
    "    pt_in_global =  find_axis_in_global_frame(pt)\n",
    "    champ_center_global.append(pt_in_global)\n",
    "\n",
    "champ_axes_global = []\n",
    "for axis in champ_axes:\n",
    "    axis_in_global =  find_axis_in_global_frame_from_quat((axis))\n",
    "    champ_axes_global.append(axis_in_global)"
   ]
  },
  {
   "cell_type": "code",
   "execution_count": 7,
   "metadata": {},
   "outputs": [
    {
     "name": "stdout",
     "output_type": "stream",
     "text": [
      "\n",
      "CHAMP Absolute Error in Axis:\n",
      "Mean:  0.4166385970390426\n",
      "std:  0.0\n",
      "\n",
      "CHAMP Absolute Error in Radius:\n",
      "Mean:  0.05593744087199998\n",
      "std:  0.0\n",
      "\n",
      "CHAMP Absolute Error in Center:\n",
      "Mean:  0.5103248307993408\n",
      "std:  0.0\n"
     ]
    }
   ],
   "source": [
    "gt_axis = np.array([0., 0., 1.])\n",
    "gt_rad = 0.45\n",
    "gt_center = np.array([-0.07834291, -0.3022653 , -0.02670656])\n",
    "abs_err = calculate_error(gt_axis, champ_axes_global)\n",
    "\n",
    "print(\"\\nCHAMP Absolute Error in Axis:\")\n",
    "mean_abs_err = np.mean(abs_err, axis=0)\n",
    "print(\"Mean: \", mean_abs_err)\n",
    "std_abs_err = np.std(abs_err, axis=0)\n",
    "print(\"std: \", std_abs_err)\n",
    "\n",
    "abs_err_rad = abs(abs(champ_radius) - gt_rad)\n",
    "print(\"\\nCHAMP Absolute Error in Radius:\")\n",
    "mean_abs_err_rad = np.mean(abs_err_rad, axis=0)\n",
    "print(\"Mean: \", mean_abs_err_rad)\n",
    "std_abs_err_rad = np.std(abs_err_rad, axis=0)\n",
    "print(\"std: \", std_abs_err_rad)\n",
    "\n",
    "abs_err_center = []\n",
    "for p in champ_center:\n",
    "    abs_err_center.append(np.linalg.norm(gt_center - p))\n",
    "print(\"\\nCHAMP Absolute Error in Center:\")\n",
    "mean_abs_err_center = np.mean(abs_err_center, axis=0)\n",
    "print(\"Mean: \", mean_abs_err_center)\n",
    "std_abs_err_center = np.std(abs_err_center, axis=0)\n",
    "print(\"std: \", std_abs_err_center)"
   ]
  },
  {
   "cell_type": "code",
   "execution_count": 8,
   "metadata": {},
   "outputs": [
    {
     "data": {
      "text/plain": [
       "[0.5103248307993408]"
      ]
     },
     "execution_count": 8,
     "metadata": {},
     "output_type": "execute_result"
    }
   ],
   "source": [
    "abs_err_center"
   ]
  },
  {
   "cell_type": "code",
   "execution_count": 12,
   "metadata": {},
   "outputs": [
    {
     "name": "stdout",
     "output_type": "stream",
     "text": [
      "\n",
      "ActCHAMP Absolute Error in Axis:\n",
      "Mean:  0.5877227216942659\n",
      "std:  0.20486414294231414\n",
      "\n",
      "ActCHAMP Absolute Error in Radius:\n",
      "Mean:  0.16375344634366665\n",
      "std:  0.10295102398584183\n",
      "\n",
      "ActCHAMP Absolute Error in center:\n",
      "Mean:  0.32810842874507024\n",
      "std:  0.12450160756556337\n"
     ]
    }
   ],
   "source": [
    "## Act-CHAMP\n",
    "actCHAMP_center = np.reshape([0.408347462728,\n",
    "-0.43070113035,\n",
    "-0.110778859282,\n",
    "0.325690033844,\n",
    "-0.0811431453607,\n",
    "0.0220380779832,\n",
    "-0.216870308766,\n",
    "-0.283168593619,\n",
    "0.103517620447,\n",
    "0.177080603674,\n",
    "-0.268679376611,\n",
    "0.0155597397094,\n",
    "0.0977043970728,\n",
    "-0.245151228683,\n",
    "0.0328268894163,\n",
    "-0.385044849375,\n",
    "-0.23345228468,\n",
    "0.124028131214,], (6,3))\n",
    "\n",
    "\n",
    "actCHAMP_axes = np.reshape([-0.582976265224,\n",
    "-0.472297565236,\n",
    "0.638679360885,\n",
    "-0.170769897922,\n",
    "0.432517486408,\n",
    "0.700301606125,\n",
    "-0.403931886633,\n",
    "0.399180805364,\n",
    "-0.432326520169,\n",
    "0.363487946111,\n",
    "0.734317687077,\n",
    "0.376494126696,\n",
    "0.459226718467,\n",
    "-0.60272228652,\n",
    "0.219405874746,\n",
    "0.614571174483,\n",
    "0.670454467941,\n",
    "0.0912854778782,\n",
    "0.566939952187,\n",
    "-0.469826413221,\n",
    "-0.428250392174,\n",
    "-0.426155380831,\n",
    "-0.496719810647,\n",
    "0.623107232106,], (6,4))\n",
    "\n",
    "dummy = np.zeros((actCHAMP_axes.shape[0], actCHAMP_axes.shape[1]))\n",
    "dummy[:,1:] = actCHAMP_axes[:, :-1]\n",
    "dummy[:,0] = actCHAMP_axes[:, -1]\n",
    "actCHAMP_axes = dummy \n",
    "\n",
    "actCHAMP_radius = np.array([0.505937440872,\n",
    "0.328940337334,\n",
    "0.261999519169,\n",
    "0.198789894215,\n",
    "0.123391619752,\n",
    "0.41029539234,])\n",
    "\n",
    "actCHAMP_axes_global = []\n",
    "for axis in actCHAMP_axes:\n",
    "    actCHAMP_axis =  find_axis_in_global_frame_from_quat(axis)\n",
    "    actCHAMP_axes_global.append(actCHAMP_axis)\n",
    "\n",
    "actCHAMP_abs_err = calculate_error(gt_axis, actCHAMP_axes_global)\n",
    "print(\"\\nActCHAMP Absolute Error in Axis:\")\n",
    "actCHAMP_mean_abs_err = np.mean(actCHAMP_abs_err, axis=0)\n",
    "print(\"Mean: \", actCHAMP_mean_abs_err)\n",
    "actCHAMP_std_abs_err = np.std(actCHAMP_abs_err, axis=0)\n",
    "print(\"std: \", actCHAMP_std_abs_err)\n",
    "\n",
    "actCHAMP_abs_err_rad = abs(actCHAMP_radius - gt_rad)\n",
    "print(\"\\nActCHAMP Absolute Error in Radius:\")\n",
    "actCHAMP_mean_abs_err_rad = np.mean(actCHAMP_abs_err_rad, axis=0)\n",
    "print(\"Mean: \", actCHAMP_mean_abs_err_rad)\n",
    "actCHAMP_std_abs_err_rad = np.std(actCHAMP_abs_err_rad, axis=0)\n",
    "print(\"std: \", actCHAMP_std_abs_err_rad)\n",
    "\n",
    "\n",
    "actCHAMP_abs_err_center = []\n",
    "for p in actCHAMP_center:\n",
    "    actCHAMP_abs_err_center.append(np.linalg.norm( p - gt_center))\n",
    "\n",
    "print(\"\\nActCHAMP Absolute Error in center:\")\n",
    "actCHAMP_mean_abs_err_center = np.mean(actCHAMP_abs_err_center, axis=0)\n",
    "print(\"Mean: \", actCHAMP_mean_abs_err_center)\n",
    "actCHAMP_std_abs_err_center = np.std(actCHAMP_abs_err_center, axis=0)\n",
    "print(\"std: \", actCHAMP_std_abs_err_center)\n"
   ]
  },
  {
   "cell_type": "code",
   "execution_count": 10,
   "metadata": {},
   "outputs": [
    {
     "data": {
      "text/plain": [
       "(1, 3)"
      ]
     },
     "execution_count": 10,
     "metadata": {},
     "output_type": "execute_result"
    }
   ],
   "source": [
    "np.shape(champ_axes[:,:3])"
   ]
  },
  {
   "cell_type": "code",
   "execution_count": null,
   "metadata": {},
   "outputs": [],
   "source": [
    "## CHANGEPOINT Analysis\n",
    "champ_cp = np.reshape([-0.00193311273984,\n",
    "0.142402253709,\n",
    "-0.00848558509461,\n",
    "-0.00193311273984,\n",
    "0.142402253709,\n",
    "-0.00848558509461,\n",
    "-0.000867558914176,\n",
    "0.141855125978,\n",
    "-0.0049918187279,\n",
    "-0.00193311273984,\n",
    "0.142402253709,\n",
    "-0.00848558509461,\n",
    "-0.00193311273984,\n",
    "0.142402253709,\n",
    "-0.00848558509461,\n",
    "-0.00193311273984,\n",
    "0.142402253709,\n",
    "-0.00848558509461,\n",
    "-0.00193311273984,\n",
    "0.142402253709,\n",
    "-0.00848558509461,\n",
    "-0.001933,\n",
    "0.142402,\n",
    "-0.008486,\n",
    "-0.00193311273984,\n",
    "0.142402253709,\n",
    "-0.00848558509461,\n",
    "-0.00193311273984,\n",
    "0.142402253709,\n",
    "-0.00848558509461,], (10, 3))\n",
    "\n",
    "ActCHAMP_cp = np.reshape([-0.00193311273984,\n",
    "0.142402253709,\n",
    "-0.00848558509461,\n",
    "-0.000867558914176,\n",
    "0.141855125978,\n",
    "-0.0049918187279,\n",
    "-0.00193311273984,\n",
    "0.142402253709,\n",
    "-0.00848558509461,\n",
    "-0.00193311273984,\n",
    "0.142402253709,\n",
    "-0.00848558509461,\n",
    "-0.00193311273984,\n",
    "0.142402253709,\n",
    "-0.00848558509461,\n",
    "-0.000867558914176,\n",
    "0.141855125978,\n",
    "-0.0049918187279,\n",
    "-0.000867558914176,\n",
    "0.141855125978,\n",
    "-0.0049918187279,\n",
    "-0.00193311273984,\n",
    "0.142402253709,\n",
    "-0.00848558509461,\n",
    "-0.00193311273984,\n",
    "0.142402253709,\n",
    "-0.00848558509461,\n",
    "-0.00193311273984,\n",
    "0.142402253709,\n",
    "-0.00848558509461,], (10, 3))\n",
    "\n",
    "# gt_cp = np.mean(np.concatenate((champ_cp, ActCHAMP_cp), axis=0), axis=0)\n",
    "# print(\"gt_cp: \", gt_cp)\n",
    "\n",
    "gt_cp = np.array([-0.00172, 0.14229282, -0.00778685])\n",
    "\n",
    "print(\"Error in CHAMP cp\")\n",
    "champ_cp_err = []\n",
    "for p in champ_cp:\n",
    "    champ_cp_err.append(np.linalg.norm(p - gt_cp))\n",
    "\n",
    "mean_champ_cp_err = np.mean(champ_cp_err)\n",
    "print(\"Mean err in CHAMP cp: \", mean_champ_cp_err)\n",
    "std_champ_cp_err = np.std(champ_cp_err)\n",
    "print(\"std in err in CHAMP cp: \", std_champ_cp_err)\n",
    "\n",
    "print(\"\\n\\nError in ActCHAMP cp\")\n",
    "ActCHAMP_cp_err = []\n",
    "for p in ActCHAMP_cp:\n",
    "    ActCHAMP_cp_err.append(np.linalg.norm(p - gt_cp))\n",
    "\n",
    "mean_ActCHAMP_cp_err = np.mean(ActCHAMP_cp_err)\n",
    "print(\"Mean err in ActCHAMP cp: \", mean_ActCHAMP_cp_err)\n",
    "std_ActCHAMP_cp_err = np.std(ActCHAMP_cp_err)\n",
    "print(\"std in err in ActCHAMP cp: \", std_ActCHAMP_cp_err)"
   ]
  }
 ],
 "metadata": {
  "kernelspec": {
   "display_name": "Python 3",
   "language": "python",
   "name": "python3"
  },
  "language_info": {
   "codemirror_mode": {
    "name": "ipython",
    "version": 3
   },
   "file_extension": ".py",
   "mimetype": "text/x-python",
   "name": "python",
   "nbconvert_exporter": "python",
   "pygments_lexer": "ipython3",
   "version": "3.5.2"
  }
 },
 "nbformat": 4,
 "nbformat_minor": 2
}
